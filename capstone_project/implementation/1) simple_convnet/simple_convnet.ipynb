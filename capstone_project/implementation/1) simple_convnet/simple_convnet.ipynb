{
 "cells": [
  {
   "cell_type": "markdown",
   "metadata": {},
   "source": [
    "# Simple ConvNet "
   ]
  },
  {
   "cell_type": "code",
   "execution_count": 1,
   "metadata": {
    "collapsed": false
   },
   "outputs": [
    {
     "name": "stderr",
     "output_type": "stream",
     "text": [
      "Using Theano backend.\n",
      "Using gpu device 0: Tesla K80 (CNMeM is disabled, cuDNN 5103)\n",
      "/home/ubuntu/anaconda2/lib/python2.7/site-packages/theano/sandbox/cuda/__init__.py:600: UserWarning: Your cuDNN version is more recent than the one Theano officially supports. If you see any problems, try updating Theano or downgrading cuDNN to version 5.\n",
      "  warnings.warn(warn)\n"
     ]
    }
   ],
   "source": [
    "from keras.preprocessing.image import ImageDataGenerator, array_to_img, img_to_array, load_img\n",
    "from keras.callbacks import EarlyStopping\n",
    "from keras.models import Sequential\n",
    "from keras.layers import Convolution2D, MaxPooling2D, ZeroPadding2D\n",
    "from keras.layers import Activation, Dropout, Flatten, Dense, Lambda\n",
    "from keras import backend as K\n",
    "from keras.optimizers import SGD\n",
    "from keras.models import Model\n",
    "import numpy as np\n",
    "import theano"
   ]
  },
  {
   "cell_type": "code",
   "execution_count": 2,
   "metadata": {
    "collapsed": false
   },
   "outputs": [],
   "source": [
    "K.set_image_dim_ordering('th')\n",
    "train_data = \"../data/train\"\n",
    "val_data = \"../data/validation\"\n",
    "\n",
    "img_width, img_height = 224, 224\n",
    "batch_size = 32"
   ]
  },
  {
   "cell_type": "code",
   "execution_count": 3,
   "metadata": {
    "collapsed": false
   },
   "outputs": [],
   "source": [
    "model = Sequential()                                                   \n",
    "model.add(ZeroPadding2D((0, 0), input_shape=(3, img_width, img_height)))\n",
    "\n",
    "model.add(ZeroPadding2D((1, 1)))\n",
    "model.add(Convolution2D(32, 3, 3, activation='relu'))\n",
    "model.add(MaxPooling2D(pool_size=(2, 2), strides=(2, 2)))\n",
    "\n",
    "model.add(ZeroPadding2D((1, 1)))\n",
    "model.add(Convolution2D(32, 3, 3, activation='relu'))\n",
    "model.add(MaxPooling2D(pool_size=(2, 2), strides=(2, 2)))\n",
    "\n",
    "model.add(ZeroPadding2D((1, 1)))\n",
    "model.add(Convolution2D(64, 3, 3, activation='relu'))\n",
    "model.add(MaxPooling2D(pool_size=(2, 2), strides=(2, 2)))\n",
    "\n",
    "model.add(ZeroPadding2D((1, 1)))\n",
    "model.add(Convolution2D(64, 3, 3, activation='relu'))\n",
    "model.add(MaxPooling2D(pool_size=(2, 2), strides=(2, 2)))\n",
    "\n",
    "model.add(Flatten())                          \n",
    "model.add(Dense(64, activation='relu'))         \n",
    "model.add(Dropout(0.5))\n",
    "model.add(Dense(1, activation='sigmoid'))           "
   ]
  },
  {
   "cell_type": "code",
   "execution_count": 4,
   "metadata": {
    "collapsed": false
   },
   "outputs": [],
   "source": [
    "model.compile(loss='binary_crossentropy', optimizer='rmsprop', metrics=['accuracy'])\n",
    "early_stopping = EarlyStopping(monitor='val_loss', patience=2)"
   ]
  },
  {
   "cell_type": "code",
   "execution_count": 5,
   "metadata": {
    "collapsed": false,
    "scrolled": false
   },
   "outputs": [
    {
     "name": "stdout",
     "output_type": "stream",
     "text": [
      "Found 23000 images belonging to 2 classes.\n",
      "Found 2000 images belonging to 2 classes.\n",
      "Epoch 1/20\n",
      "23000/23000 [==============================] - 282s - loss: 0.6278 - acc: 0.6477 - val_loss: 0.5131 - val_acc: 0.7559\n",
      "Epoch 2/20\n",
      "23000/23000 [==============================] - 248s - loss: 0.5062 - acc: 0.7587 - val_loss: 0.4790 - val_acc: 0.7520\n",
      "Epoch 3/20\n",
      "23000/23000 [==============================] - 248s - loss: 0.4319 - acc: 0.8073 - val_loss: 0.4027 - val_acc: 0.8213\n",
      "Epoch 4/20\n",
      "23000/23000 [==============================] - 247s - loss: 0.3840 - acc: 0.8348 - val_loss: 0.4213 - val_acc: 0.8214\n",
      "Epoch 5/20\n",
      "23000/23000 [==============================] - 247s - loss: 0.3519 - acc: 0.8527 - val_loss: 0.3282 - val_acc: 0.8643\n",
      "Epoch 6/20\n",
      "23000/23000 [==============================] - 247s - loss: 0.3242 - acc: 0.8666 - val_loss: 0.3257 - val_acc: 0.8750\n",
      "Epoch 7/20\n",
      "23000/23000 [==============================] - 247s - loss: 0.2992 - acc: 0.8793 - val_loss: 0.3575 - val_acc: 0.8320\n",
      "Epoch 8/20\n",
      "23000/23000 [==============================] - 247s - loss: 0.2872 - acc: 0.8863 - val_loss: 0.3232 - val_acc: 0.8681\n",
      "Epoch 9/20\n",
      "23000/23000 [==============================] - 247s - loss: 0.2727 - acc: 0.8925 - val_loss: 0.2497 - val_acc: 0.8994\n",
      "Epoch 10/20\n",
      "23000/23000 [==============================] - 248s - loss: 0.2555 - acc: 0.8997 - val_loss: 0.3483 - val_acc: 0.8740\n",
      "Epoch 11/20\n",
      "23000/23000 [==============================] - 247s - loss: 0.2422 - acc: 0.9056 - val_loss: 0.2499 - val_acc: 0.8994\n",
      "Epoch 12/20\n",
      "23000/23000 [==============================] - 246s - loss: 0.2328 - acc: 0.9095 - val_loss: 0.2388 - val_acc: 0.8988\n",
      "Epoch 13/20\n",
      "23000/23000 [==============================] - 246s - loss: 0.2380 - acc: 0.9097 - val_loss: 0.3287 - val_acc: 0.8613\n",
      "Epoch 14/20\n",
      "23000/23000 [==============================] - 246s - loss: 0.2222 - acc: 0.9150 - val_loss: 0.3603 - val_acc: 0.8909\n",
      "Epoch 15/20\n",
      "23000/23000 [==============================] - 249s - loss: 0.2219 - acc: 0.9163 - val_loss: 0.2179 - val_acc: 0.9102\n",
      "Epoch 16/20\n",
      "23000/23000 [==============================] - 246s - loss: 0.2208 - acc: 0.9179 - val_loss: 0.3490 - val_acc: 0.8790\n",
      "Epoch 17/20\n",
      "23000/23000 [==============================] - 247s - loss: 0.2101 - acc: 0.9191 - val_loss: 0.2111 - val_acc: 0.9131\n",
      "Epoch 18/20\n",
      "23000/23000 [==============================] - 247s - loss: 0.2100 - acc: 0.9213 - val_loss: 0.4341 - val_acc: 0.8601\n",
      "Epoch 19/20\n",
      "23000/23000 [==============================] - 247s - loss: 0.2057 - acc: 0.9250 - val_loss: 0.2818 - val_acc: 0.8887\n",
      "Epoch 20/20\n",
      "23000/23000 [==============================] - 247s - loss: 0.2089 - acc: 0.9224 - val_loss: 0.4862 - val_acc: 0.8631\n"
     ]
    }
   ],
   "source": [
    "train_datagen = ImageDataGenerator(rescale=1./255)\n",
    "val_datagen = ImageDataGenerator(rescale=1./255)\n",
    "\n",
    "train_generator = train_datagen.flow_from_directory(directory=train_data, target_size=(img_width, img_height),\n",
    "                                              batch_size=batch_size, class_mode='binary')\n",
    "val_generator = val_datagen.flow_from_directory(directory=val_data, target_size=(img_width, img_height),\n",
    "                                            batch_size=batch_size, class_mode='binary')\n",
    "\n",
    "\n",
    "model.fit_generator(\n",
    "        train_generator,\n",
    "        samples_per_epoch=23000,\n",
    "        nb_epoch=20,\n",
    "        validation_data=val_generator,\n",
    "        nb_val_samples=1000,\n",
    "        callbacks=[early_stopping]\n",
    ")\n",
    "\n",
    "model.save_weights('simple_convnet.h5')  "
   ]
  },
  {
   "cell_type": "code",
   "execution_count": 6,
   "metadata": {
    "collapsed": true
   },
   "outputs": [],
   "source": [
    "model.save_weights('simple_convnet.h5')  "
   ]
  },
  {
   "cell_type": "code",
   "execution_count": null,
   "metadata": {
    "collapsed": true
   },
   "outputs": [],
   "source": []
  }
 ],
 "metadata": {
  "anaconda-cloud": {},
  "kernelspec": {
   "display_name": "Python 2",
   "language": "python",
   "name": "python2"
  },
  "language_info": {
   "codemirror_mode": {
    "name": "ipython",
    "version": 2
   },
   "file_extension": ".py",
   "mimetype": "text/x-python",
   "name": "python",
   "nbconvert_exporter": "python",
   "pygments_lexer": "ipython2",
   "version": "2.7.13"
  }
 },
 "nbformat": 4,
 "nbformat_minor": 2
}
