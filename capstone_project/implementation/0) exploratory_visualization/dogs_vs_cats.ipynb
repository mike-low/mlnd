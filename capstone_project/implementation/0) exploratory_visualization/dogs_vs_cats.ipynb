{
 "cells": [
  {
   "cell_type": "markdown",
   "metadata": {},
   "source": [
    "# Dogs Vs Cats Image Classification\n",
    "\n",
    "Something else here\n"
   ]
  },
  {
   "cell_type": "markdown",
   "metadata": {},
   "source": [
    "### Initial imports and settings"
   ]
  },
  {
   "cell_type": "code",
   "execution_count": 1,
   "metadata": {
    "collapsed": false
   },
   "outputs": [],
   "source": [
    "%matplotlib inline\n",
    "\n",
    "import numpy as np\n",
    "\n",
    "# For loading and processing image files\n",
    "from PIL import Image\n",
    "import glob\n",
    "import os\n",
    "\n",
    "# Visualisations\n",
    "import matplotlib.pyplot as plt\n",
    "from collections import Counter\n",
    "\n",
    "# Set division operator to be Python 3 style\n",
    "from __future__ import division"
   ]
  },
  {
   "cell_type": "markdown",
   "metadata": {
    "collapsed": true
   },
   "source": [
    "Define the path to the data files:"
   ]
  },
  {
   "cell_type": "code",
   "execution_count": 2,
   "metadata": {
    "collapsed": true
   },
   "outputs": [],
   "source": [
    "dogs_data_path = \"../../data/train/dogs\"\n",
    "cats_data_path = \"../../data/train/cats\""
   ]
  },
  {
   "cell_type": "markdown",
   "metadata": {},
   "source": [
    "### Exploratory Visualisation "
   ]
  },
  {
   "cell_type": "markdown",
   "metadata": {},
   "source": [
    "Load the image paths into an array:"
   ]
  },
  {
   "cell_type": "code",
   "execution_count": 3,
   "metadata": {
    "collapsed": false
   },
   "outputs": [],
   "source": [
    "dog_images = glob.glob(os.path.join(dogs_data_path, \"*.jpg\"))\n",
    "cat_images = glob.glob(os.path.join(cats_data_path, \"*.jpg\"))"
   ]
  },
  {
   "cell_type": "markdown",
   "metadata": {},
   "source": [
    "Loop through all the images, defining them as portrait, landscape or square as appropriate based on their sizes."
   ]
  },
  {
   "cell_type": "code",
   "execution_count": 4,
   "metadata": {
    "collapsed": false
   },
   "outputs": [],
   "source": [
    "def get_image_orientation(image_path):\n",
    "    image = Image.open(image_path)\n",
    "    aspect_ratio = image.width / image.height\n",
    "    \n",
    "    if aspect_ratio > 5/4:\n",
    "        orientation = \"landscape\"\n",
    "    elif aspect_ratio < 4/5:\n",
    "        orientation = \"portrait\"\n",
    "    else:\n",
    "        orientation = \"square\"\n",
    "    return orientation\n",
    "\n",
    "dog_images_orientation =  [ get_image_orientation(image) for image in dog_images ] \n",
    "cat_images_orientation =  [ get_image_orientation(image) for image in cat_images ] \n",
    "\n"
   ]
  },
  {
   "cell_type": "markdown",
   "metadata": {},
   "source": [
    "Now we've calculated the orientation, we need the aggregate data about how many of each type there are in order to plot the data."
   ]
  },
  {
   "cell_type": "code",
   "execution_count": 5,
   "metadata": {
    "collapsed": false
   },
   "outputs": [],
   "source": [
    "dog_images_counter = Counter(dog_images_orientation)\n",
    "dog_images_items = dict(dog_images_counter)\n",
    "\n",
    "cat_images_counter = Counter(cat_images_orientation)\n",
    "cat_images_items = dict(cat_images_counter)"
   ]
  },
  {
   "cell_type": "markdown",
   "metadata": {},
   "source": [
    "Using the Counter data, plot bar graphs of the Dogs vs Cats image orientations."
   ]
  },
  {
   "cell_type": "code",
   "execution_count": 6,
   "metadata": {
    "collapsed": false
   },
   "outputs": [
    {
     "data": {
      "image/png": "[encoded data removed]",
      "text/plain": [
       "<matplotlib.figure.Figure at 0x110a36e50>"
      ]
     },
     "metadata": {},
     "output_type": "display_data"
    }
   ],
   "source": [
    "# create plot\n",
    "fig, ax = plt.subplots()\n",
    "fig.set_size_inches(14.5, 10.5)\n",
    " \n",
    "# Plot the dogs and cats data\n",
    "index = np.arange(len(dog_images_items.keys()))\n",
    "bar_width = 0.4\n",
    "rects1 = plt.bar(index, dog_images_items.values(), bar_width, color='#f1c40f', label='Dogs')\n",
    "rects2 = plt.bar(index + bar_width + 0.02, cat_images_items.values(), bar_width, color='#27ae60', label='Cats')\n",
    " \n",
    "# Add x axis label\n",
    "plt.xlabel('Image Orientation', fontsize=14, fontweight='bold')\n",
    "ax.xaxis.labelpad = 10 \n",
    "\n",
    "# And x sublabels\n",
    "x_names = [ name.title() for name in dog_images_items.keys() ]\n",
    "plt.xticks(index + (bar_width / 2), x_names)\n",
    "\n",
    "# Add y axis label\n",
    "plt.ylabel('Image Count', fontsize=14, fontweight='bold')\n",
    "ax.yaxis.labelpad = 10 \n",
    "\n",
    "# Add full image title and legend\n",
    "plt.title('Image Orientation, by image type')\n",
    "plt.legend()\n",
    "\n",
    "plt.show()"
   ]
  },
  {
   "cell_type": "code",
   "execution_count": null,
   "metadata": {
    "collapsed": true
   },
   "outputs": [],
   "source": []
  }
 ],
 "metadata": {
  "kernelspec": {
   "display_name": "Python 2",
   "language": "python",
   "name": "python2"
  },
  "language_info": {
   "codemirror_mode": {
    "name": "ipython",
    "version": 2
   },
   "file_extension": ".py",
   "mimetype": "text/x-python",
   "name": "python",
   "nbconvert_exporter": "python",
   "pygments_lexer": "ipython2",
   "version": "2.7.13"
  }
 },
 "nbformat": 4,
 "nbformat_minor": 2
}
